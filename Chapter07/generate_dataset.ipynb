{
 "cells": [
  {
   "cell_type": "markdown",
   "metadata": {},
   "source": [
    "# 2017 Global Airports"
   ]
  },
  {
   "cell_type": "code",
   "execution_count": 1,
   "metadata": {},
   "outputs": [
    {
     "name": "stdout",
     "output_type": "stream",
     "text": [
      "Requirement already satisfied: pandas in /Users/shashankshekhar/.virtualenvs/superset/lib/python3.6/site-packages (0.22.0)\r\n",
      "Requirement already satisfied: numpy>=1.9.0 in /Users/shashankshekhar/.virtualenvs/superset/lib/python3.6/site-packages (from pandas) (1.14.3)\r\n",
      "Requirement already satisfied: python-dateutil>=2 in /Users/shashankshekhar/.virtualenvs/superset/lib/python3.6/site-packages (from pandas) (2.6.1)\r\n",
      "Requirement already satisfied: pytz>=2011k in /Users/shashankshekhar/.virtualenvs/superset/lib/python3.6/site-packages (from pandas) (2018.4)\r\n",
      "Requirement already satisfied: six>=1.5 in /Users/shashankshekhar/.virtualenvs/superset/lib/python3.6/site-packages (from python-dateutil>=2->pandas) (1.11.0)\r\n"
     ]
    }
   ],
   "source": [
    "!pip install pandas"
   ]
  },
  {
   "cell_type": "code",
   "execution_count": 2,
   "metadata": {},
   "outputs": [
    {
     "name": "stdout",
     "output_type": "stream",
     "text": [
      "--2018-10-14 18:11:49--  https://raw.githubusercontent.com/jpatokal/openflights/master/data/airports.dat\n",
      "Resolving raw.githubusercontent.com (raw.githubusercontent.com)... 151.101.40.133\n",
      "Connecting to raw.githubusercontent.com (raw.githubusercontent.com)|151.101.40.133|:443... connected.\n",
      "HTTP request sent, awaiting response... 200 OK\n",
      "Length: 1068028 (1.0M) [text/plain]\n",
      "Saving to: ‘/tmp/airports.dat’\n",
      "\n",
      "/tmp/airports.dat   100%[===================>]   1.02M  3.09MB/s    in 0.3s    \n",
      "\n",
      "2018-10-14 18:11:50 (3.09 MB/s) - ‘/tmp/airports.dat’ saved [1068028/1068028]\n",
      "\n",
      "rm: airports.dat: No such file or directory\n"
     ]
    }
   ],
   "source": [
    "import pandas as pd\n",
    "!wget https://raw.githubusercontent.com/jpatokal/openflights/master/data/airports.dat -O /tmp/airports.dat\n",
    "columns = [\n",
    "    \"Airport ID\", \n",
    "    \"Name\", \n",
    "    \"City\", \n",
    "    \"Country\", \n",
    "    \"IATA\", \n",
    "    \"ICAO\", \n",
    "    \"Latitude\", \n",
    "    \"Longitude\", \n",
    "    \"Altitude\", \n",
    "    \"Timezone\", \n",
    "    \"DST\", \n",
    "    \"Tz\", \n",
    "    \"Type\", \n",
    "    \"Source\"\n",
    "]\n",
    "df = pd.read_csv('/tmp/airports.dat', delimiter=',', doublequote=True, header=-1, names=columns)\n",
    "df.to_csv('airports_modified.csv', index=False)"
   ]
  },
  {
   "cell_type": "markdown",
   "metadata": {},
   "source": [
    "# 2014 Califonia Rail Routes"
   ]
  },
  {
   "cell_type": "code",
   "execution_count": 3,
   "metadata": {},
   "outputs": [
    {
     "name": "stdout",
     "output_type": "stream",
     "text": [
      "Requirement already satisfied: geopandas in /Users/shashankshekhar/.virtualenvs/superset/lib/python3.6/site-packages (0.4.0)\n",
      "Requirement already satisfied: shapely in /Users/shashankshekhar/.virtualenvs/superset/lib/python3.6/site-packages (from geopandas) (1.6.4.post2)\n",
      "Requirement already satisfied: pyproj in /Users/shashankshekhar/.virtualenvs/superset/lib/python3.6/site-packages (from geopandas) (1.9.5.1)\n",
      "Requirement already satisfied: pandas in /Users/shashankshekhar/.virtualenvs/superset/lib/python3.6/site-packages (from geopandas) (0.22.0)\n",
      "Requirement already satisfied: fiona in /Users/shashankshekhar/.virtualenvs/superset/lib/python3.6/site-packages (from geopandas) (1.7.13)\n",
      "Requirement already satisfied: pytz>=2011k in /Users/shashankshekhar/.virtualenvs/superset/lib/python3.6/site-packages (from pandas->geopandas) (2018.4)\n",
      "Requirement already satisfied: python-dateutil>=2 in /Users/shashankshekhar/.virtualenvs/superset/lib/python3.6/site-packages (from pandas->geopandas) (2.6.1)\n",
      "Requirement already satisfied: numpy>=1.9.0 in /Users/shashankshekhar/.virtualenvs/superset/lib/python3.6/site-packages (from pandas->geopandas) (1.14.3)\n",
      "Requirement already satisfied: cligj>=0.4 in /Users/shashankshekhar/.virtualenvs/superset/lib/python3.6/site-packages (from fiona->geopandas) (0.5.0)\n",
      "Requirement already satisfied: click-plugins in /Users/shashankshekhar/.virtualenvs/superset/lib/python3.6/site-packages (from fiona->geopandas) (1.0.4)\n",
      "Requirement already satisfied: six>=1.7 in /Users/shashankshekhar/.virtualenvs/superset/lib/python3.6/site-packages (from fiona->geopandas) (1.11.0)\n",
      "Requirement already satisfied: munch in /Users/shashankshekhar/.virtualenvs/superset/lib/python3.6/site-packages (from fiona->geopandas) (2.3.2)\n",
      "Requirement already satisfied: click<8,>=4.0 in /Users/shashankshekhar/.virtualenvs/superset/lib/python3.6/site-packages (from cligj>=0.4->fiona->geopandas) (6.7)\n",
      "Requirement already satisfied: matplotlib in /Users/shashankshekhar/.virtualenvs/superset/lib/python3.6/site-packages (3.0.0)\n",
      "Requirement already satisfied: cycler>=0.10 in /Users/shashankshekhar/.virtualenvs/superset/lib/python3.6/site-packages (from matplotlib) (0.10.0)\n",
      "Requirement already satisfied: pyparsing!=2.0.4,!=2.1.2,!=2.1.6,>=2.0.1 in /Users/shashankshekhar/.virtualenvs/superset/lib/python3.6/site-packages (from matplotlib) (2.2.2)\n",
      "Requirement already satisfied: python-dateutil>=2.1 in /Users/shashankshekhar/.virtualenvs/superset/lib/python3.6/site-packages (from matplotlib) (2.6.1)\n",
      "Requirement already satisfied: kiwisolver>=1.0.1 in /Users/shashankshekhar/.virtualenvs/superset/lib/python3.6/site-packages (from matplotlib) (1.0.1)\n",
      "Requirement already satisfied: numpy>=1.10.0 in /Users/shashankshekhar/.virtualenvs/superset/lib/python3.6/site-packages (from matplotlib) (1.14.3)\n",
      "Requirement already satisfied: six in /Users/shashankshekhar/.virtualenvs/superset/lib/python3.6/site-packages (from cycler>=0.10->matplotlib) (1.11.0)\n",
      "Requirement already satisfied: setuptools in /Users/shashankshekhar/.virtualenvs/superset/lib/python3.6/site-packages (from kiwisolver>=1.0.1->matplotlib) (39.2.0)\n",
      "Requirement already satisfied: cython in /Users/shashankshekhar/.virtualenvs/superset/lib/python3.6/site-packages (0.29)\n",
      "Requirement already satisfied: polyline in /Users/shashankshekhar/.virtualenvs/superset/lib/python3.6/site-packages (1.3.2)\n",
      "Requirement already satisfied: six>=1.8.0 in /Users/shashankshekhar/.virtualenvs/superset/lib/python3.6/site-packages (from polyline) (1.11.0)\n",
      "Requirement already satisfied: descartes in /Users/shashankshekhar/.virtualenvs/superset/lib/python3.6/site-packages (1.1.0)\n",
      "Requirement already satisfied: matplotlib in /Users/shashankshekhar/.virtualenvs/superset/lib/python3.6/site-packages (from descartes) (3.0.0)\n",
      "Requirement already satisfied: kiwisolver>=1.0.1 in /Users/shashankshekhar/.virtualenvs/superset/lib/python3.6/site-packages (from matplotlib->descartes) (1.0.1)\n",
      "Requirement already satisfied: pyparsing!=2.0.4,!=2.1.2,!=2.1.6,>=2.0.1 in /Users/shashankshekhar/.virtualenvs/superset/lib/python3.6/site-packages (from matplotlib->descartes) (2.2.2)\n",
      "Requirement already satisfied: python-dateutil>=2.1 in /Users/shashankshekhar/.virtualenvs/superset/lib/python3.6/site-packages (from matplotlib->descartes) (2.6.1)\n",
      "Requirement already satisfied: cycler>=0.10 in /Users/shashankshekhar/.virtualenvs/superset/lib/python3.6/site-packages (from matplotlib->descartes) (0.10.0)\n",
      "Requirement already satisfied: numpy>=1.10.0 in /Users/shashankshekhar/.virtualenvs/superset/lib/python3.6/site-packages (from matplotlib->descartes) (1.14.3)\n",
      "Requirement already satisfied: setuptools in /Users/shashankshekhar/.virtualenvs/superset/lib/python3.6/site-packages (from kiwisolver>=1.0.1->matplotlib->descartes) (39.2.0)\n",
      "Requirement already satisfied: six>=1.5 in /Users/shashankshekhar/.virtualenvs/superset/lib/python3.6/site-packages (from python-dateutil>=2.1->matplotlib->descartes) (1.11.0)\n"
     ]
    }
   ],
   "source": [
    "!pip install geopandas\n",
    "!pip install matplotlib\n",
    "!pip install cython\n",
    "!pip install polyline\n",
    "!pip install descartes"
   ]
  },
  {
   "cell_type": "code",
   "execution_count": null,
   "metadata": {},
   "outputs": [
    {
     "name": "stdout",
     "output_type": "stream",
     "text": [
      "--2018-10-14 18:11:57--  ftp://ftp.dfg.ca.gov/BDB/GIS/BIOS/Public_Datasets/1300_1399/ds1337.zip\n",
      "           => ‘ds1337.zip’\n",
      "Resolving ftp.dfg.ca.gov (ftp.dfg.ca.gov)... 134.186.52.52\n",
      "Connecting to ftp.dfg.ca.gov (ftp.dfg.ca.gov)|134.186.52.52|:21... connected.\n",
      "Logging in as anonymous ... Logged in!\n",
      "==> SYST ... done.    ==> PWD ... done.\n",
      "==> TYPE I ... done.  ==> CWD (1) /BDB/GIS/BIOS/Public_Datasets/1300_1399 ... done.\n",
      "==> SIZE ds1337.zip ... 912130\n",
      "==> PASV ... done.    ==> RETR ds1337.zip ... done.\n",
      "Length: 912130 (891K) (unauthoritative)\n",
      "\n",
      "ds1337.zip          100%[===================>] 890.75K  2.26MB/s    in 0.4s    \n",
      "\n",
      "2018-10-14 18:11:58 (2.26 MB/s) - ‘ds1337.zip’ saved [912130]\n",
      "\n",
      "Archive:  ds1337.zip\n",
      "replace /tmp/ds1337/ds1337.CPG? [y]es, [n]o, [A]ll, [N]one, [r]ename: "
     ]
    }
   ],
   "source": [
    "import geopandas as gpd\n",
    "\n",
    "!wget ftp://ftp.dfg.ca.gov/BDB/GIS/BIOS/Public_Datasets/1300_1399/ds1337.zip\n",
    "!unzip ds1337.zip -d /tmp/ds1337\n",
    "\n",
    "fp = \"/tmp/ds1337/ds1337.shp\"\n",
    "data = gpd.read_file(fp)\n",
    "print(data.crs)\n",
    "data = data.to_crs({'init': 'epsg:4326'}) \n",
    "data.head(3)"
   ]
  },
  {
   "cell_type": "code",
   "execution_count": null,
   "metadata": {},
   "outputs": [],
   "source": [
    "%matplotlib inline\n",
    "data.plot()"
   ]
  },
  {
   "cell_type": "code",
   "execution_count": null,
   "metadata": {},
   "outputs": [],
   "source": [
    "import polyline\n",
    "\n",
    "def get_polyline(item):\n",
    "    try: \n",
    "        return polyline.encode([(e[0], e[1]) for e in zip(item.xy[0].tolist(), item.xy[1].tolist())])\n",
    "    except:\n",
    "        return []\n",
    "\n",
    "data['POLYLINE'] = data.geometry.map(get_polyline)\n",
    "data.head(3)    "
   ]
  },
  {
   "cell_type": "code",
   "execution_count": null,
   "metadata": {},
   "outputs": [],
   "source": [
    "data_write = data[['OBJECTID', 'PASS_SPEED', 'FRT_SPEED', 'MAXSPD', 'NUM_TRACK', 'POLYLINE']]\n",
    "data_write.head(3)"
   ]
  },
  {
   "cell_type": "code",
   "execution_count": null,
   "metadata": {},
   "outputs": [],
   "source": [
    "import csv\n",
    "\n",
    "data_write.to_csv('ca_railroads.csv', index=False, sep='\\t', quoting=csv.QUOTE_NONE)\n",
    "!head -n10 ca_railroads.csv"
   ]
  }
 ],
 "metadata": {
  "kernelspec": {
   "display_name": "Python 3",
   "language": "python",
   "name": "python3"
  },
  "language_info": {
   "codemirror_mode": {
    "name": "ipython",
    "version": 3
   },
   "file_extension": ".py",
   "mimetype": "text/x-python",
   "name": "python",
   "nbconvert_exporter": "python",
   "pygments_lexer": "ipython3",
   "version": "3.7.0"
  }
 },
 "nbformat": 4,
 "nbformat_minor": 2
}
